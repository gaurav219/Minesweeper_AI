num = 20
print(20)
